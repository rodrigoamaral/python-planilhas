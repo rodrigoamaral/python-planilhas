{
 "cells": [
  {
   "cell_type": "markdown",
   "metadata": {
    "slideshow": {
     "slide_type": "slide"
    }
   },
   "source": [
    "# Análise de dados com Python: substituindo planilhas por código\n",
    "----\n",
    "por Rodrigo Amaral"
   ]
  },
  {
   "cell_type": "markdown",
   "metadata": {
    "slideshow": {
     "slide_type": "slide"
    }
   },
   "source": [
    "## Carregando uma planilha"
   ]
  },
  {
   "cell_type": "markdown",
   "metadata": {},
   "source": [
    "Antes de começar, precisamos importar a biblioteca `pandas`:"
   ]
  },
  {
   "cell_type": "code",
   "execution_count": 1,
   "metadata": {},
   "outputs": [],
   "source": [
    "import pandas as pd"
   ]
  },
  {
   "cell_type": "markdown",
   "metadata": {
    "slideshow": {
     "slide_type": "slide"
    }
   },
   "source": [
    "O método `read_excel()` lê uma planilha a partir de um arquivo do Excel e carrega seu conteúdo em uma estrutura do Pandas chamada `DataFrame`:"
   ]
  },
  {
   "cell_type": "code",
   "execution_count": 2,
   "metadata": {
    "slideshow": {
     "slide_type": "subslide"
    }
   },
   "outputs": [],
   "source": [
    "df  = pd.read_excel(\"data/funcionarios.xlsx\")"
   ]
  },
  {
   "cell_type": "markdown",
   "metadata": {},
   "source": [
    "Para mostrar apenas as primeiras linhas de um DataFrame, usamos o método `head()`:"
   ]
  },
  {
   "cell_type": "code",
   "execution_count": 3,
   "metadata": {
    "scrolled": true
   },
   "outputs": [
    {
     "data": {
      "text/html": [
       "<div>\n",
       "<style scoped>\n",
       "    .dataframe tbody tr th:only-of-type {\n",
       "        vertical-align: middle;\n",
       "    }\n",
       "\n",
       "    .dataframe tbody tr th {\n",
       "        vertical-align: top;\n",
       "    }\n",
       "\n",
       "    .dataframe thead th {\n",
       "        text-align: right;\n",
       "    }\n",
       "</style>\n",
       "<table border=\"1\" class=\"dataframe\">\n",
       "  <thead>\n",
       "    <tr style=\"text-align: right;\">\n",
       "      <th></th>\n",
       "      <th>Matrícula</th>\n",
       "      <th>Nome</th>\n",
       "      <th>E-mail</th>\n",
       "      <th>Gênero</th>\n",
       "      <th>Data de Nascimento</th>\n",
       "      <th>Escolaridade</th>\n",
       "    </tr>\n",
       "  </thead>\n",
       "  <tbody>\n",
       "    <tr>\n",
       "      <td>0</td>\n",
       "      <td>1</td>\n",
       "      <td>Rhodie Rudgley</td>\n",
       "      <td>rrudgley0@yale.edu</td>\n",
       "      <td>Feminino</td>\n",
       "      <td>28/08/1981</td>\n",
       "      <td>Mestrado</td>\n",
       "    </tr>\n",
       "    <tr>\n",
       "      <td>1</td>\n",
       "      <td>2</td>\n",
       "      <td>Laverna Rochell</td>\n",
       "      <td>lrochell1@cargocollective.com</td>\n",
       "      <td>Feminino</td>\n",
       "      <td>18/03/1996</td>\n",
       "      <td>Mestrado</td>\n",
       "    </tr>\n",
       "    <tr>\n",
       "      <td>2</td>\n",
       "      <td>3</td>\n",
       "      <td>Mead Choules</td>\n",
       "      <td>mchoules2@bloomberg.com</td>\n",
       "      <td>Masculino</td>\n",
       "      <td>23/11/1987</td>\n",
       "      <td>Médio</td>\n",
       "    </tr>\n",
       "    <tr>\n",
       "      <td>3</td>\n",
       "      <td>4</td>\n",
       "      <td>Averil Brownett</td>\n",
       "      <td>abrownett3@who.int</td>\n",
       "      <td>Masculino</td>\n",
       "      <td>23/07/1991</td>\n",
       "      <td>Especialização</td>\n",
       "    </tr>\n",
       "    <tr>\n",
       "      <td>4</td>\n",
       "      <td>5</td>\n",
       "      <td>Giacinta Lammin</td>\n",
       "      <td>glammin4@moonfruit.com</td>\n",
       "      <td>Feminino</td>\n",
       "      <td>13/08/1954</td>\n",
       "      <td>Doutorado</td>\n",
       "    </tr>\n",
       "  </tbody>\n",
       "</table>\n",
       "</div>"
      ],
      "text/plain": [
       "   Matrícula             Nome                         E-mail     Gênero  \\\n",
       "0          1   Rhodie Rudgley             rrudgley0@yale.edu   Feminino   \n",
       "1          2  Laverna Rochell  lrochell1@cargocollective.com   Feminino   \n",
       "2          3     Mead Choules        mchoules2@bloomberg.com  Masculino   \n",
       "3          4  Averil Brownett             abrownett3@who.int  Masculino   \n",
       "4          5  Giacinta Lammin         glammin4@moonfruit.com   Feminino   \n",
       "\n",
       "  Data de Nascimento    Escolaridade  \n",
       "0         28/08/1981        Mestrado  \n",
       "1         18/03/1996        Mestrado  \n",
       "2         23/11/1987           Médio  \n",
       "3         23/07/1991  Especialização  \n",
       "4         13/08/1954       Doutorado  "
      ]
     },
     "execution_count": 3,
     "metadata": {},
     "output_type": "execute_result"
    }
   ],
   "source": [
    "df.head()"
   ]
  },
  {
   "cell_type": "markdown",
   "metadata": {},
   "source": [
    "Para mostrar as últimas linhas, usamos `tail()`:"
   ]
  },
  {
   "cell_type": "code",
   "execution_count": 4,
   "metadata": {},
   "outputs": [
    {
     "data": {
      "text/html": [
       "<div>\n",
       "<style scoped>\n",
       "    .dataframe tbody tr th:only-of-type {\n",
       "        vertical-align: middle;\n",
       "    }\n",
       "\n",
       "    .dataframe tbody tr th {\n",
       "        vertical-align: top;\n",
       "    }\n",
       "\n",
       "    .dataframe thead th {\n",
       "        text-align: right;\n",
       "    }\n",
       "</style>\n",
       "<table border=\"1\" class=\"dataframe\">\n",
       "  <thead>\n",
       "    <tr style=\"text-align: right;\">\n",
       "      <th></th>\n",
       "      <th>Matrícula</th>\n",
       "      <th>Nome</th>\n",
       "      <th>E-mail</th>\n",
       "      <th>Gênero</th>\n",
       "      <th>Data de Nascimento</th>\n",
       "      <th>Escolaridade</th>\n",
       "    </tr>\n",
       "  </thead>\n",
       "  <tbody>\n",
       "    <tr>\n",
       "      <td>995</td>\n",
       "      <td>996</td>\n",
       "      <td>Giorgio Teall</td>\n",
       "      <td>gteallrn@sphinn.com</td>\n",
       "      <td>Masculino</td>\n",
       "      <td>12/05/1950</td>\n",
       "      <td>Mestrado</td>\n",
       "    </tr>\n",
       "    <tr>\n",
       "      <td>996</td>\n",
       "      <td>997</td>\n",
       "      <td>Eldridge Peacocke</td>\n",
       "      <td>epeacockero@biglobe.ne.jp</td>\n",
       "      <td>Masculino</td>\n",
       "      <td>11/07/1965</td>\n",
       "      <td>Especialização</td>\n",
       "    </tr>\n",
       "    <tr>\n",
       "      <td>997</td>\n",
       "      <td>998</td>\n",
       "      <td>Brig Antcliffe</td>\n",
       "      <td>bantclifferp@addtoany.com</td>\n",
       "      <td>Masculino</td>\n",
       "      <td>07/11/1961</td>\n",
       "      <td>Superior</td>\n",
       "    </tr>\n",
       "    <tr>\n",
       "      <td>998</td>\n",
       "      <td>999</td>\n",
       "      <td>Lion Plant</td>\n",
       "      <td>lplantrq@odnoklassniki.ru</td>\n",
       "      <td>Masculino</td>\n",
       "      <td>28/09/1998</td>\n",
       "      <td>Mestrado</td>\n",
       "    </tr>\n",
       "    <tr>\n",
       "      <td>999</td>\n",
       "      <td>1000</td>\n",
       "      <td>Davine Scala</td>\n",
       "      <td>dscalarr@ovh.net</td>\n",
       "      <td>Feminino</td>\n",
       "      <td>22/05/2000</td>\n",
       "      <td>Doutorado</td>\n",
       "    </tr>\n",
       "  </tbody>\n",
       "</table>\n",
       "</div>"
      ],
      "text/plain": [
       "     Matrícula               Nome                     E-mail     Gênero  \\\n",
       "995        996      Giorgio Teall        gteallrn@sphinn.com  Masculino   \n",
       "996        997  Eldridge Peacocke  epeacockero@biglobe.ne.jp  Masculino   \n",
       "997        998     Brig Antcliffe  bantclifferp@addtoany.com  Masculino   \n",
       "998        999         Lion Plant  lplantrq@odnoklassniki.ru  Masculino   \n",
       "999       1000       Davine Scala           dscalarr@ovh.net   Feminino   \n",
       "\n",
       "    Data de Nascimento    Escolaridade  \n",
       "995         12/05/1950        Mestrado  \n",
       "996         11/07/1965  Especialização  \n",
       "997         07/11/1961        Superior  \n",
       "998         28/09/1998        Mestrado  \n",
       "999         22/05/2000       Doutorado  "
      ]
     },
     "execution_count": 4,
     "metadata": {},
     "output_type": "execute_result"
    }
   ],
   "source": [
    "df.tail()"
   ]
  },
  {
   "cell_type": "markdown",
   "metadata": {},
   "source": [
    "A propriedade `shape` mostra as dimensões do dataframe (número de linhas e colunas, neste caso):"
   ]
  },
  {
   "cell_type": "code",
   "execution_count": 5,
   "metadata": {},
   "outputs": [
    {
     "data": {
      "text/plain": [
       "(1000, 6)"
      ]
     },
     "execution_count": 5,
     "metadata": {},
     "output_type": "execute_result"
    }
   ],
   "source": [
    "df.shape"
   ]
  },
  {
   "cell_type": "markdown",
   "metadata": {},
   "source": [
    "O método `info()` imprime um resumo das informações sobre o DataFrame, incluindo os tipos de dados de cada coluna, a quantidade de valores nulos e o consumo de memória."
   ]
  },
  {
   "cell_type": "code",
   "execution_count": 6,
   "metadata": {},
   "outputs": [
    {
     "name": "stdout",
     "output_type": "stream",
     "text": [
      "<class 'pandas.core.frame.DataFrame'>\n",
      "RangeIndex: 1000 entries, 0 to 999\n",
      "Data columns (total 6 columns):\n",
      "Matrícula             1000 non-null int64\n",
      "Nome                  1000 non-null object\n",
      "E-mail                1000 non-null object\n",
      "Gênero                1000 non-null object\n",
      "Data de Nascimento    1000 non-null object\n",
      "Escolaridade          1000 non-null object\n",
      "dtypes: int64(1), object(5)\n",
      "memory usage: 47.0+ KB\n"
     ]
    }
   ],
   "source": [
    "df.info()"
   ]
  },
  {
   "cell_type": "markdown",
   "metadata": {},
   "source": [
    "## Convertendo tipos de dados\n",
    "\n",
    "Data de Nascimento é uma string que precisa ser convertida para o tipo `datetime` para que possamos efetuar cálculos com essa data."
   ]
  },
  {
   "cell_type": "code",
   "execution_count": 7,
   "metadata": {},
   "outputs": [
    {
     "name": "stdout",
     "output_type": "stream",
     "text": [
      "<class 'pandas.core.frame.DataFrame'>\n",
      "RangeIndex: 1000 entries, 0 to 999\n",
      "Data columns (total 6 columns):\n",
      "Matrícula             1000 non-null int64\n",
      "Nome                  1000 non-null object\n",
      "E-mail                1000 non-null object\n",
      "Gênero                1000 non-null object\n",
      "Data de Nascimento    1000 non-null datetime64[ns]\n",
      "Escolaridade          1000 non-null object\n",
      "dtypes: datetime64[ns](1), int64(1), object(4)\n",
      "memory usage: 47.0+ KB\n"
     ]
    }
   ],
   "source": [
    "df[\"Data de Nascimento\"] = pd.to_datetime(df[\"Data de Nascimento\"], format=\"%d/%m/%Y\")\n",
    "df.info()"
   ]
  },
  {
   "cell_type": "markdown",
   "metadata": {},
   "source": [
    "## Inserindo coluna com as idades atuais dos funcionários"
   ]
  },
  {
   "cell_type": "markdown",
   "metadata": {},
   "source": [
    "Primeiro criamos uma função para obter o cálculo da idade em anos:"
   ]
  },
  {
   "cell_type": "code",
   "execution_count": 8,
   "metadata": {},
   "outputs": [],
   "source": [
    "# antes precisamos importar o numpy para usar a função timedelta64\n",
    "import numpy as np\n",
    "def calcular_idade(data_nasc):\n",
    "    return (pd.Timestamp('now') - data_nasc) / np.timedelta64(1, \"Y\")"
   ]
  },
  {
   "cell_type": "markdown",
   "metadata": {},
   "source": [
    "Em seguida, aplicamos a função `calcular_idade()` à coluna \"Data de Nascimento\" usando o método `apply()` do dataframe. Usamos o método `astype()` para como uma forma de arredondar as idades para valores inteiros. Então, atribuímos a série resultante à nova coluna \"Idade\"."
   ]
  },
  {
   "cell_type": "code",
   "execution_count": 9,
   "metadata": {
    "scrolled": false
   },
   "outputs": [
    {
     "data": {
      "text/html": [
       "<div>\n",
       "<style scoped>\n",
       "    .dataframe tbody tr th:only-of-type {\n",
       "        vertical-align: middle;\n",
       "    }\n",
       "\n",
       "    .dataframe tbody tr th {\n",
       "        vertical-align: top;\n",
       "    }\n",
       "\n",
       "    .dataframe thead th {\n",
       "        text-align: right;\n",
       "    }\n",
       "</style>\n",
       "<table border=\"1\" class=\"dataframe\">\n",
       "  <thead>\n",
       "    <tr style=\"text-align: right;\">\n",
       "      <th></th>\n",
       "      <th>Matrícula</th>\n",
       "      <th>Nome</th>\n",
       "      <th>E-mail</th>\n",
       "      <th>Gênero</th>\n",
       "      <th>Data de Nascimento</th>\n",
       "      <th>Escolaridade</th>\n",
       "      <th>Idade</th>\n",
       "    </tr>\n",
       "  </thead>\n",
       "  <tbody>\n",
       "    <tr>\n",
       "      <td>0</td>\n",
       "      <td>1</td>\n",
       "      <td>Rhodie Rudgley</td>\n",
       "      <td>rrudgley0@yale.edu</td>\n",
       "      <td>Feminino</td>\n",
       "      <td>1981-08-28</td>\n",
       "      <td>Mestrado</td>\n",
       "      <td>37</td>\n",
       "    </tr>\n",
       "    <tr>\n",
       "      <td>1</td>\n",
       "      <td>2</td>\n",
       "      <td>Laverna Rochell</td>\n",
       "      <td>lrochell1@cargocollective.com</td>\n",
       "      <td>Feminino</td>\n",
       "      <td>1996-03-18</td>\n",
       "      <td>Mestrado</td>\n",
       "      <td>23</td>\n",
       "    </tr>\n",
       "    <tr>\n",
       "      <td>2</td>\n",
       "      <td>3</td>\n",
       "      <td>Mead Choules</td>\n",
       "      <td>mchoules2@bloomberg.com</td>\n",
       "      <td>Masculino</td>\n",
       "      <td>1987-11-23</td>\n",
       "      <td>Médio</td>\n",
       "      <td>31</td>\n",
       "    </tr>\n",
       "    <tr>\n",
       "      <td>3</td>\n",
       "      <td>4</td>\n",
       "      <td>Averil Brownett</td>\n",
       "      <td>abrownett3@who.int</td>\n",
       "      <td>Masculino</td>\n",
       "      <td>1991-07-23</td>\n",
       "      <td>Especialização</td>\n",
       "      <td>28</td>\n",
       "    </tr>\n",
       "    <tr>\n",
       "      <td>4</td>\n",
       "      <td>5</td>\n",
       "      <td>Giacinta Lammin</td>\n",
       "      <td>glammin4@moonfruit.com</td>\n",
       "      <td>Feminino</td>\n",
       "      <td>1954-08-13</td>\n",
       "      <td>Doutorado</td>\n",
       "      <td>65</td>\n",
       "    </tr>\n",
       "  </tbody>\n",
       "</table>\n",
       "</div>"
      ],
      "text/plain": [
       "   Matrícula             Nome                         E-mail     Gênero  \\\n",
       "0          1   Rhodie Rudgley             rrudgley0@yale.edu   Feminino   \n",
       "1          2  Laverna Rochell  lrochell1@cargocollective.com   Feminino   \n",
       "2          3     Mead Choules        mchoules2@bloomberg.com  Masculino   \n",
       "3          4  Averil Brownett             abrownett3@who.int  Masculino   \n",
       "4          5  Giacinta Lammin         glammin4@moonfruit.com   Feminino   \n",
       "\n",
       "  Data de Nascimento    Escolaridade  Idade  \n",
       "0         1981-08-28        Mestrado     37  \n",
       "1         1996-03-18        Mestrado     23  \n",
       "2         1987-11-23           Médio     31  \n",
       "3         1991-07-23  Especialização     28  \n",
       "4         1954-08-13       Doutorado     65  "
      ]
     },
     "execution_count": 9,
     "metadata": {},
     "output_type": "execute_result"
    }
   ],
   "source": [
    "df[\"Idade\"] = df[\"Data de Nascimento\"].apply(calcular_idade).astype(\"int\")\n",
    "df.head()"
   ]
  },
  {
   "cell_type": "markdown",
   "metadata": {},
   "source": [
    "### Atribuindo índices"
   ]
  },
  {
   "cell_type": "markdown",
   "metadata": {},
   "source": [
    "No nosso conjunto de dados temos o atributo \"Matrícula\" que pode servir como índice do dataframe:"
   ]
  },
  {
   "cell_type": "code",
   "execution_count": 10,
   "metadata": {},
   "outputs": [
    {
     "data": {
      "text/html": [
       "<div>\n",
       "<style scoped>\n",
       "    .dataframe tbody tr th:only-of-type {\n",
       "        vertical-align: middle;\n",
       "    }\n",
       "\n",
       "    .dataframe tbody tr th {\n",
       "        vertical-align: top;\n",
       "    }\n",
       "\n",
       "    .dataframe thead th {\n",
       "        text-align: right;\n",
       "    }\n",
       "</style>\n",
       "<table border=\"1\" class=\"dataframe\">\n",
       "  <thead>\n",
       "    <tr style=\"text-align: right;\">\n",
       "      <th></th>\n",
       "      <th>Nome</th>\n",
       "      <th>E-mail</th>\n",
       "      <th>Gênero</th>\n",
       "      <th>Data de Nascimento</th>\n",
       "      <th>Escolaridade</th>\n",
       "      <th>Idade</th>\n",
       "    </tr>\n",
       "    <tr>\n",
       "      <th>Matrícula</th>\n",
       "      <th></th>\n",
       "      <th></th>\n",
       "      <th></th>\n",
       "      <th></th>\n",
       "      <th></th>\n",
       "      <th></th>\n",
       "    </tr>\n",
       "  </thead>\n",
       "  <tbody>\n",
       "    <tr>\n",
       "      <td>1</td>\n",
       "      <td>Rhodie Rudgley</td>\n",
       "      <td>rrudgley0@yale.edu</td>\n",
       "      <td>Feminino</td>\n",
       "      <td>1981-08-28</td>\n",
       "      <td>Mestrado</td>\n",
       "      <td>37</td>\n",
       "    </tr>\n",
       "    <tr>\n",
       "      <td>2</td>\n",
       "      <td>Laverna Rochell</td>\n",
       "      <td>lrochell1@cargocollective.com</td>\n",
       "      <td>Feminino</td>\n",
       "      <td>1996-03-18</td>\n",
       "      <td>Mestrado</td>\n",
       "      <td>23</td>\n",
       "    </tr>\n",
       "    <tr>\n",
       "      <td>3</td>\n",
       "      <td>Mead Choules</td>\n",
       "      <td>mchoules2@bloomberg.com</td>\n",
       "      <td>Masculino</td>\n",
       "      <td>1987-11-23</td>\n",
       "      <td>Médio</td>\n",
       "      <td>31</td>\n",
       "    </tr>\n",
       "    <tr>\n",
       "      <td>4</td>\n",
       "      <td>Averil Brownett</td>\n",
       "      <td>abrownett3@who.int</td>\n",
       "      <td>Masculino</td>\n",
       "      <td>1991-07-23</td>\n",
       "      <td>Especialização</td>\n",
       "      <td>28</td>\n",
       "    </tr>\n",
       "    <tr>\n",
       "      <td>5</td>\n",
       "      <td>Giacinta Lammin</td>\n",
       "      <td>glammin4@moonfruit.com</td>\n",
       "      <td>Feminino</td>\n",
       "      <td>1954-08-13</td>\n",
       "      <td>Doutorado</td>\n",
       "      <td>65</td>\n",
       "    </tr>\n",
       "  </tbody>\n",
       "</table>\n",
       "</div>"
      ],
      "text/plain": [
       "                      Nome                         E-mail     Gênero  \\\n",
       "Matrícula                                                              \n",
       "1           Rhodie Rudgley             rrudgley0@yale.edu   Feminino   \n",
       "2          Laverna Rochell  lrochell1@cargocollective.com   Feminino   \n",
       "3             Mead Choules        mchoules2@bloomberg.com  Masculino   \n",
       "4          Averil Brownett             abrownett3@who.int  Masculino   \n",
       "5          Giacinta Lammin         glammin4@moonfruit.com   Feminino   \n",
       "\n",
       "          Data de Nascimento    Escolaridade  Idade  \n",
       "Matrícula                                            \n",
       "1                 1981-08-28        Mestrado     37  \n",
       "2                 1996-03-18        Mestrado     23  \n",
       "3                 1987-11-23           Médio     31  \n",
       "4                 1991-07-23  Especialização     28  \n",
       "5                 1954-08-13       Doutorado     65  "
      ]
     },
     "execution_count": 10,
     "metadata": {},
     "output_type": "execute_result"
    }
   ],
   "source": [
    "df = df.set_index(\"Matrícula\")\n",
    "df.head()"
   ]
  },
  {
   "cell_type": "markdown",
   "metadata": {},
   "source": [
    "### Obtendo estatísticas simples"
   ]
  },
  {
   "cell_type": "markdown",
   "metadata": {},
   "source": [
    "O método `describe()` gera estatísticas descritivas que resumem a **tendência central**, **dispersão** e formato da **distribuição** de um conjunto de dados:"
   ]
  },
  {
   "cell_type": "code",
   "execution_count": 11,
   "metadata": {},
   "outputs": [
    {
     "data": {
      "text/html": [
       "<div>\n",
       "<style scoped>\n",
       "    .dataframe tbody tr th:only-of-type {\n",
       "        vertical-align: middle;\n",
       "    }\n",
       "\n",
       "    .dataframe tbody tr th {\n",
       "        vertical-align: top;\n",
       "    }\n",
       "\n",
       "    .dataframe thead th {\n",
       "        text-align: right;\n",
       "    }\n",
       "</style>\n",
       "<table border=\"1\" class=\"dataframe\">\n",
       "  <thead>\n",
       "    <tr style=\"text-align: right;\">\n",
       "      <th></th>\n",
       "      <th>Idade</th>\n",
       "    </tr>\n",
       "  </thead>\n",
       "  <tbody>\n",
       "    <tr>\n",
       "      <td>count</td>\n",
       "      <td>1000.000000</td>\n",
       "    </tr>\n",
       "    <tr>\n",
       "      <td>mean</td>\n",
       "      <td>45.190000</td>\n",
       "    </tr>\n",
       "    <tr>\n",
       "      <td>std</td>\n",
       "      <td>14.883797</td>\n",
       "    </tr>\n",
       "    <tr>\n",
       "      <td>min</td>\n",
       "      <td>18.000000</td>\n",
       "    </tr>\n",
       "    <tr>\n",
       "      <td>25%</td>\n",
       "      <td>33.000000</td>\n",
       "    </tr>\n",
       "    <tr>\n",
       "      <td>50%</td>\n",
       "      <td>46.000000</td>\n",
       "    </tr>\n",
       "    <tr>\n",
       "      <td>75%</td>\n",
       "      <td>57.250000</td>\n",
       "    </tr>\n",
       "    <tr>\n",
       "      <td>max</td>\n",
       "      <td>70.000000</td>\n",
       "    </tr>\n",
       "  </tbody>\n",
       "</table>\n",
       "</div>"
      ],
      "text/plain": [
       "             Idade\n",
       "count  1000.000000\n",
       "mean     45.190000\n",
       "std      14.883797\n",
       "min      18.000000\n",
       "25%      33.000000\n",
       "50%      46.000000\n",
       "75%      57.250000\n",
       "max      70.000000"
      ]
     },
     "execution_count": 11,
     "metadata": {},
     "output_type": "execute_result"
    }
   ],
   "source": [
    "df.describe()"
   ]
  },
  {
   "cell_type": "markdown",
   "metadata": {},
   "source": [
    "## Combinando dados de outras fontes"
   ]
  },
  {
   "cell_type": "markdown",
   "metadata": {},
   "source": [
    "Agora vamos simular a obtenção de outras fontes de dados relacionadas ao conjunto de dados de funcionários que já temos. Vamos imaginar que o departamento de RH nos forneceu uma planilha com a relação de treinamentos promovidos pela empresa:"
   ]
  },
  {
   "cell_type": "code",
   "execution_count": 12,
   "metadata": {
    "scrolled": false
   },
   "outputs": [
    {
     "data": {
      "text/html": [
       "<div>\n",
       "<style scoped>\n",
       "    .dataframe tbody tr th:only-of-type {\n",
       "        vertical-align: middle;\n",
       "    }\n",
       "\n",
       "    .dataframe tbody tr th {\n",
       "        vertical-align: top;\n",
       "    }\n",
       "\n",
       "    .dataframe thead th {\n",
       "        text-align: right;\n",
       "    }\n",
       "</style>\n",
       "<table border=\"1\" class=\"dataframe\">\n",
       "  <thead>\n",
       "    <tr style=\"text-align: right;\">\n",
       "      <th></th>\n",
       "      <th>ID</th>\n",
       "      <th>Curso</th>\n",
       "      <th>Competência</th>\n",
       "      <th>Carga Horária</th>\n",
       "    </tr>\n",
       "  </thead>\n",
       "  <tbody>\n",
       "    <tr>\n",
       "      <td>28</td>\n",
       "      <td>29</td>\n",
       "      <td>Docker</td>\n",
       "      <td>Técnica</td>\n",
       "      <td>8</td>\n",
       "    </tr>\n",
       "    <tr>\n",
       "      <td>29</td>\n",
       "      <td>30</td>\n",
       "      <td>Kubernetes</td>\n",
       "      <td>Técnica</td>\n",
       "      <td>16</td>\n",
       "    </tr>\n",
       "    <tr>\n",
       "      <td>30</td>\n",
       "      <td>31</td>\n",
       "      <td>Integração Contínua</td>\n",
       "      <td>Técnica</td>\n",
       "      <td>8</td>\n",
       "    </tr>\n",
       "    <tr>\n",
       "      <td>31</td>\n",
       "      <td>32</td>\n",
       "      <td>Git</td>\n",
       "      <td>Técnica</td>\n",
       "      <td>24</td>\n",
       "    </tr>\n",
       "    <tr>\n",
       "      <td>32</td>\n",
       "      <td>33</td>\n",
       "      <td>ElasticSearch</td>\n",
       "      <td>Técnica</td>\n",
       "      <td>4</td>\n",
       "    </tr>\n",
       "  </tbody>\n",
       "</table>\n",
       "</div>"
      ],
      "text/plain": [
       "    ID                Curso Competência  Carga Horária\n",
       "28  29               Docker     Técnica              8\n",
       "29  30           Kubernetes     Técnica             16\n",
       "30  31  Integração Contínua     Técnica              8\n",
       "31  32                  Git     Técnica             24\n",
       "32  33        ElasticSearch     Técnica              4"
      ]
     },
     "execution_count": 12,
     "metadata": {},
     "output_type": "execute_result"
    }
   ],
   "source": [
    "df_cursos = pd.read_excel(\"data/cursos.xlsx\")\n",
    "df_cursos.tail()"
   ]
  },
  {
   "cell_type": "code",
   "execution_count": 13,
   "metadata": {},
   "outputs": [
    {
     "data": {
      "text/plain": [
       "(33, 4)"
      ]
     },
     "execution_count": 13,
     "metadata": {},
     "output_type": "execute_result"
    }
   ],
   "source": [
    "df_cursos.shape"
   ]
  },
  {
   "cell_type": "markdown",
   "metadata": {},
   "source": [
    "Temos ainda outra planilha que relaciona os cursos com os funcionários que participaram:"
   ]
  },
  {
   "cell_type": "code",
   "execution_count": 14,
   "metadata": {
    "scrolled": true
   },
   "outputs": [
    {
     "data": {
      "text/html": [
       "<div>\n",
       "<style scoped>\n",
       "    .dataframe tbody tr th:only-of-type {\n",
       "        vertical-align: middle;\n",
       "    }\n",
       "\n",
       "    .dataframe tbody tr th {\n",
       "        vertical-align: top;\n",
       "    }\n",
       "\n",
       "    .dataframe thead th {\n",
       "        text-align: right;\n",
       "    }\n",
       "</style>\n",
       "<table border=\"1\" class=\"dataframe\">\n",
       "  <thead>\n",
       "    <tr style=\"text-align: right;\">\n",
       "      <th></th>\n",
       "      <th>Funcionário</th>\n",
       "      <th>Curso</th>\n",
       "      <th>Data de conclusão</th>\n",
       "    </tr>\n",
       "  </thead>\n",
       "  <tbody>\n",
       "    <tr>\n",
       "      <td>0</td>\n",
       "      <td>Reagan Palmer</td>\n",
       "      <td>Fundamentos do HTTP</td>\n",
       "      <td>24/10/2017</td>\n",
       "    </tr>\n",
       "    <tr>\n",
       "      <td>1</td>\n",
       "      <td>Myriam Boulger</td>\n",
       "      <td>Javascript básico</td>\n",
       "      <td>09/03/2018</td>\n",
       "    </tr>\n",
       "    <tr>\n",
       "      <td>2</td>\n",
       "      <td>Meara Egdale</td>\n",
       "      <td>ElasticSearch</td>\n",
       "      <td>04/12/2017</td>\n",
       "    </tr>\n",
       "    <tr>\n",
       "      <td>3</td>\n",
       "      <td>Ely Cristoferi</td>\n",
       "      <td>Kubernetes</td>\n",
       "      <td>04/10/2017</td>\n",
       "    </tr>\n",
       "    <tr>\n",
       "      <td>4</td>\n",
       "      <td>Meara Egdale</td>\n",
       "      <td>Git</td>\n",
       "      <td>05/02/2019</td>\n",
       "    </tr>\n",
       "  </tbody>\n",
       "</table>\n",
       "</div>"
      ],
      "text/plain": [
       "      Funcionário                Curso Data de conclusão\n",
       "0   Reagan Palmer  Fundamentos do HTTP        24/10/2017\n",
       "1  Myriam Boulger    Javascript básico        09/03/2018\n",
       "2    Meara Egdale        ElasticSearch        04/12/2017\n",
       "3  Ely Cristoferi           Kubernetes        04/10/2017\n",
       "4    Meara Egdale                  Git        05/02/2019"
      ]
     },
     "execution_count": 14,
     "metadata": {},
     "output_type": "execute_result"
    }
   ],
   "source": [
    "df_realizados = pd.read_excel(\"data/cursos_realizados.xlsx\")\n",
    "df_realizados.head()"
   ]
  },
  {
   "cell_type": "code",
   "execution_count": 15,
   "metadata": {},
   "outputs": [
    {
     "data": {
      "text/plain": [
       "(160, 3)"
      ]
     },
     "execution_count": 15,
     "metadata": {},
     "output_type": "execute_result"
    }
   ],
   "source": [
    "df_realizados.shape"
   ]
  },
  {
   "cell_type": "markdown",
   "metadata": {},
   "source": [
    "Mais uma vez, vamos converter a coluna de data para o tipo de dados correto:"
   ]
  },
  {
   "cell_type": "code",
   "execution_count": 16,
   "metadata": {},
   "outputs": [
    {
     "data": {
      "text/html": [
       "<div>\n",
       "<style scoped>\n",
       "    .dataframe tbody tr th:only-of-type {\n",
       "        vertical-align: middle;\n",
       "    }\n",
       "\n",
       "    .dataframe tbody tr th {\n",
       "        vertical-align: top;\n",
       "    }\n",
       "\n",
       "    .dataframe thead th {\n",
       "        text-align: right;\n",
       "    }\n",
       "</style>\n",
       "<table border=\"1\" class=\"dataframe\">\n",
       "  <thead>\n",
       "    <tr style=\"text-align: right;\">\n",
       "      <th></th>\n",
       "      <th>Funcionário</th>\n",
       "      <th>Curso</th>\n",
       "      <th>Data de conclusão</th>\n",
       "    </tr>\n",
       "  </thead>\n",
       "  <tbody>\n",
       "    <tr>\n",
       "      <td>0</td>\n",
       "      <td>Reagan Palmer</td>\n",
       "      <td>Fundamentos do HTTP</td>\n",
       "      <td>2017-10-24</td>\n",
       "    </tr>\n",
       "    <tr>\n",
       "      <td>1</td>\n",
       "      <td>Myriam Boulger</td>\n",
       "      <td>Javascript básico</td>\n",
       "      <td>2018-03-09</td>\n",
       "    </tr>\n",
       "    <tr>\n",
       "      <td>2</td>\n",
       "      <td>Meara Egdale</td>\n",
       "      <td>ElasticSearch</td>\n",
       "      <td>2017-12-04</td>\n",
       "    </tr>\n",
       "    <tr>\n",
       "      <td>3</td>\n",
       "      <td>Ely Cristoferi</td>\n",
       "      <td>Kubernetes</td>\n",
       "      <td>2017-10-04</td>\n",
       "    </tr>\n",
       "    <tr>\n",
       "      <td>4</td>\n",
       "      <td>Meara Egdale</td>\n",
       "      <td>Git</td>\n",
       "      <td>2019-02-05</td>\n",
       "    </tr>\n",
       "  </tbody>\n",
       "</table>\n",
       "</div>"
      ],
      "text/plain": [
       "      Funcionário                Curso Data de conclusão\n",
       "0   Reagan Palmer  Fundamentos do HTTP        2017-10-24\n",
       "1  Myriam Boulger    Javascript básico        2018-03-09\n",
       "2    Meara Egdale        ElasticSearch        2017-12-04\n",
       "3  Ely Cristoferi           Kubernetes        2017-10-04\n",
       "4    Meara Egdale                  Git        2019-02-05"
      ]
     },
     "execution_count": 16,
     "metadata": {},
     "output_type": "execute_result"
    }
   ],
   "source": [
    "df_realizados[\"Data de conclusão\"] = pd.to_datetime(df_realizados[\"Data de conclusão\"], format=\"%d/%m/%Y\")\n",
    "df_realizados.head()"
   ]
  },
  {
   "cell_type": "markdown",
   "metadata": {},
   "source": [
    "### Agrupando dados"
   ]
  },
  {
   "cell_type": "markdown",
   "metadata": {},
   "source": [
    "O método `groupby` separa os dados de acordo com um critério e os reagrupa usando algum tipo de função de agregação (`count()`, `sum()`, `mean()`, etc.)"
   ]
  },
  {
   "cell_type": "code",
   "execution_count": 17,
   "metadata": {
    "scrolled": true
   },
   "outputs": [
    {
     "data": {
      "text/html": [
       "<div>\n",
       "<style scoped>\n",
       "    .dataframe tbody tr th:only-of-type {\n",
       "        vertical-align: middle;\n",
       "    }\n",
       "\n",
       "    .dataframe tbody tr th {\n",
       "        vertical-align: top;\n",
       "    }\n",
       "\n",
       "    .dataframe thead th {\n",
       "        text-align: right;\n",
       "    }\n",
       "</style>\n",
       "<table border=\"1\" class=\"dataframe\">\n",
       "  <thead>\n",
       "    <tr style=\"text-align: right;\">\n",
       "      <th></th>\n",
       "      <th>Nome</th>\n",
       "      <th>E-mail</th>\n",
       "      <th>Data de Nascimento</th>\n",
       "      <th>Escolaridade</th>\n",
       "      <th>Idade</th>\n",
       "    </tr>\n",
       "    <tr>\n",
       "      <th>Gênero</th>\n",
       "      <th></th>\n",
       "      <th></th>\n",
       "      <th></th>\n",
       "      <th></th>\n",
       "      <th></th>\n",
       "    </tr>\n",
       "  </thead>\n",
       "  <tbody>\n",
       "    <tr>\n",
       "      <td>Feminino</td>\n",
       "      <td>517</td>\n",
       "      <td>517</td>\n",
       "      <td>517</td>\n",
       "      <td>517</td>\n",
       "      <td>517</td>\n",
       "    </tr>\n",
       "    <tr>\n",
       "      <td>Masculino</td>\n",
       "      <td>483</td>\n",
       "      <td>483</td>\n",
       "      <td>483</td>\n",
       "      <td>483</td>\n",
       "      <td>483</td>\n",
       "    </tr>\n",
       "  </tbody>\n",
       "</table>\n",
       "</div>"
      ],
      "text/plain": [
       "           Nome  E-mail  Data de Nascimento  Escolaridade  Idade\n",
       "Gênero                                                          \n",
       "Feminino    517     517                 517           517    517\n",
       "Masculino   483     483                 483           483    483"
      ]
     },
     "execution_count": 17,
     "metadata": {},
     "output_type": "execute_result"
    }
   ],
   "source": [
    "df.groupby([\"Gênero\"]).count()"
   ]
  },
  {
   "cell_type": "code",
   "execution_count": 18,
   "metadata": {
    "scrolled": true
   },
   "outputs": [
    {
     "data": {
      "text/html": [
       "<div>\n",
       "<style scoped>\n",
       "    .dataframe tbody tr th:only-of-type {\n",
       "        vertical-align: middle;\n",
       "    }\n",
       "\n",
       "    .dataframe tbody tr th {\n",
       "        vertical-align: top;\n",
       "    }\n",
       "\n",
       "    .dataframe thead th {\n",
       "        text-align: right;\n",
       "    }\n",
       "</style>\n",
       "<table border=\"1\" class=\"dataframe\">\n",
       "  <thead>\n",
       "    <tr style=\"text-align: right;\">\n",
       "      <th></th>\n",
       "      <th></th>\n",
       "      <th>Nome</th>\n",
       "      <th>E-mail</th>\n",
       "      <th>Data de Nascimento</th>\n",
       "      <th>Idade</th>\n",
       "    </tr>\n",
       "    <tr>\n",
       "      <th>Escolaridade</th>\n",
       "      <th>Gênero</th>\n",
       "      <th></th>\n",
       "      <th></th>\n",
       "      <th></th>\n",
       "      <th></th>\n",
       "    </tr>\n",
       "  </thead>\n",
       "  <tbody>\n",
       "    <tr>\n",
       "      <td rowspan=\"2\" valign=\"top\">Doutorado</td>\n",
       "      <td>Feminino</td>\n",
       "      <td>99</td>\n",
       "      <td>99</td>\n",
       "      <td>99</td>\n",
       "      <td>99</td>\n",
       "    </tr>\n",
       "    <tr>\n",
       "      <td>Masculino</td>\n",
       "      <td>83</td>\n",
       "      <td>83</td>\n",
       "      <td>83</td>\n",
       "      <td>83</td>\n",
       "    </tr>\n",
       "    <tr>\n",
       "      <td rowspan=\"2\" valign=\"top\">Especialização</td>\n",
       "      <td>Feminino</td>\n",
       "      <td>107</td>\n",
       "      <td>107</td>\n",
       "      <td>107</td>\n",
       "      <td>107</td>\n",
       "    </tr>\n",
       "    <tr>\n",
       "      <td>Masculino</td>\n",
       "      <td>123</td>\n",
       "      <td>123</td>\n",
       "      <td>123</td>\n",
       "      <td>123</td>\n",
       "    </tr>\n",
       "    <tr>\n",
       "      <td rowspan=\"2\" valign=\"top\">Mestrado</td>\n",
       "      <td>Feminino</td>\n",
       "      <td>111</td>\n",
       "      <td>111</td>\n",
       "      <td>111</td>\n",
       "      <td>111</td>\n",
       "    </tr>\n",
       "    <tr>\n",
       "      <td>Masculino</td>\n",
       "      <td>107</td>\n",
       "      <td>107</td>\n",
       "      <td>107</td>\n",
       "      <td>107</td>\n",
       "    </tr>\n",
       "    <tr>\n",
       "      <td rowspan=\"2\" valign=\"top\">Médio</td>\n",
       "      <td>Feminino</td>\n",
       "      <td>95</td>\n",
       "      <td>95</td>\n",
       "      <td>95</td>\n",
       "      <td>95</td>\n",
       "    </tr>\n",
       "    <tr>\n",
       "      <td>Masculino</td>\n",
       "      <td>85</td>\n",
       "      <td>85</td>\n",
       "      <td>85</td>\n",
       "      <td>85</td>\n",
       "    </tr>\n",
       "    <tr>\n",
       "      <td rowspan=\"2\" valign=\"top\">Superior</td>\n",
       "      <td>Feminino</td>\n",
       "      <td>105</td>\n",
       "      <td>105</td>\n",
       "      <td>105</td>\n",
       "      <td>105</td>\n",
       "    </tr>\n",
       "    <tr>\n",
       "      <td>Masculino</td>\n",
       "      <td>85</td>\n",
       "      <td>85</td>\n",
       "      <td>85</td>\n",
       "      <td>85</td>\n",
       "    </tr>\n",
       "  </tbody>\n",
       "</table>\n",
       "</div>"
      ],
      "text/plain": [
       "                          Nome  E-mail  Data de Nascimento  Idade\n",
       "Escolaridade   Gênero                                            \n",
       "Doutorado      Feminino     99      99                  99     99\n",
       "               Masculino    83      83                  83     83\n",
       "Especialização Feminino    107     107                 107    107\n",
       "               Masculino   123     123                 123    123\n",
       "Mestrado       Feminino    111     111                 111    111\n",
       "               Masculino   107     107                 107    107\n",
       "Médio          Feminino     95      95                  95     95\n",
       "               Masculino    85      85                  85     85\n",
       "Superior       Feminino    105     105                 105    105\n",
       "               Masculino    85      85                  85     85"
      ]
     },
     "execution_count": 18,
     "metadata": {},
     "output_type": "execute_result"
    }
   ],
   "source": [
    "df.groupby([\"Escolaridade\", \"Gênero\"]).count()"
   ]
  },
  {
   "cell_type": "markdown",
   "metadata": {},
   "source": [
    "### Quantidade de alunos de cada curso"
   ]
  },
  {
   "cell_type": "code",
   "execution_count": 19,
   "metadata": {
    "scrolled": true
   },
   "outputs": [
    {
     "data": {
      "text/plain": [
       "Curso\n",
       "Algoritmos não-supervisionados para Aprendizado de Máquina        9\n",
       "Angular                                                           2\n",
       "COBIT                                                             4\n",
       "Desenvolvimento dirigido por testes                               6\n",
       "Docker                                                            5\n",
       "Eclipse                                                           8\n",
       "ElasticSearch                                                     7\n",
       "Expressões regulares                                              2\n",
       "Fundamentos de Linux                                              5\n",
       "Fundamentos do HTTP                                               9\n",
       "Gestão de Continuidade de Negócios                                2\n",
       "Gestão de riscos das contratações públicas com enfoque prático    5\n",
       "Git                                                               6\n",
       "HTML5 e CSS3                                                      7\n",
       "ITIL Foundation                                                   3\n",
       "Integração Contínua                                               5\n",
       "Introdução ao Aprendizado de Máquina                              5\n",
       "Introdução ao mapeamento de processos com BPMN                    3\n",
       "Introdução ao orçamento público e classificações orçamentárias    3\n",
       "Introdução à Ciência de Dados                                     1\n",
       "Introdução à linguagem Python 3                                   6\n",
       "JQuery                                                            3\n",
       "Java básico                                                       8\n",
       "Javascript avançado                                               2\n",
       "Javascript básico                                                 5\n",
       "Kubernetes                                                        5\n",
       "Laravel                                                           6\n",
       "Noções sobre execução orçamentária                                3\n",
       "PHP orientado a objetos                                           7\n",
       "Padrões de projeto em Java                                        4\n",
       "Segurança em Sistemas Web                                         3\n",
       "Typescript                                                        6\n",
       "Webpack                                                           5\n",
       "dtype: int64"
      ]
     },
     "execution_count": 19,
     "metadata": {},
     "output_type": "execute_result"
    }
   ],
   "source": [
    "df_realizados.groupby(\"Curso\").size()"
   ]
  },
  {
   "cell_type": "markdown",
   "metadata": {},
   "source": [
    "### Quantidade de cursos realizados por aluno"
   ]
  },
  {
   "cell_type": "markdown",
   "metadata": {},
   "source": [
    "Para trabalhar com as informações de cursos realizados por aluno, precisamos fazer uma junção dos dois dataframes. Para isso, podemos usar o método `merge()` para consolidá-los em um único dataframe:"
   ]
  },
  {
   "cell_type": "code",
   "execution_count": 20,
   "metadata": {},
   "outputs": [
    {
     "data": {
      "text/html": [
       "<div>\n",
       "<style scoped>\n",
       "    .dataframe tbody tr th:only-of-type {\n",
       "        vertical-align: middle;\n",
       "    }\n",
       "\n",
       "    .dataframe tbody tr th {\n",
       "        vertical-align: top;\n",
       "    }\n",
       "\n",
       "    .dataframe thead th {\n",
       "        text-align: right;\n",
       "    }\n",
       "</style>\n",
       "<table border=\"1\" class=\"dataframe\">\n",
       "  <thead>\n",
       "    <tr style=\"text-align: right;\">\n",
       "      <th></th>\n",
       "      <th>Funcionário</th>\n",
       "      <th>Curso</th>\n",
       "      <th>Data de conclusão</th>\n",
       "      <th>ID</th>\n",
       "      <th>Competência</th>\n",
       "      <th>Carga Horária</th>\n",
       "    </tr>\n",
       "  </thead>\n",
       "  <tbody>\n",
       "    <tr>\n",
       "      <td>0</td>\n",
       "      <td>Reagan Palmer</td>\n",
       "      <td>Fundamentos do HTTP</td>\n",
       "      <td>2017-10-24</td>\n",
       "      <td>12</td>\n",
       "      <td>Técnica</td>\n",
       "      <td>4</td>\n",
       "    </tr>\n",
       "    <tr>\n",
       "      <td>1</td>\n",
       "      <td>Gallagher Sudlow</td>\n",
       "      <td>Fundamentos do HTTP</td>\n",
       "      <td>2018-04-05</td>\n",
       "      <td>12</td>\n",
       "      <td>Técnica</td>\n",
       "      <td>4</td>\n",
       "    </tr>\n",
       "    <tr>\n",
       "      <td>2</td>\n",
       "      <td>Giacinta Lammin</td>\n",
       "      <td>Fundamentos do HTTP</td>\n",
       "      <td>2018-07-01</td>\n",
       "      <td>12</td>\n",
       "      <td>Técnica</td>\n",
       "      <td>4</td>\n",
       "    </tr>\n",
       "    <tr>\n",
       "      <td>3</td>\n",
       "      <td>Joly Bartlett</td>\n",
       "      <td>Fundamentos do HTTP</td>\n",
       "      <td>2018-08-30</td>\n",
       "      <td>12</td>\n",
       "      <td>Técnica</td>\n",
       "      <td>4</td>\n",
       "    </tr>\n",
       "    <tr>\n",
       "      <td>4</td>\n",
       "      <td>Reagan Palmer</td>\n",
       "      <td>Fundamentos do HTTP</td>\n",
       "      <td>2019-01-22</td>\n",
       "      <td>12</td>\n",
       "      <td>Técnica</td>\n",
       "      <td>4</td>\n",
       "    </tr>\n",
       "  </tbody>\n",
       "</table>\n",
       "</div>"
      ],
      "text/plain": [
       "        Funcionário                Curso Data de conclusão  ID Competência  \\\n",
       "0     Reagan Palmer  Fundamentos do HTTP        2017-10-24  12     Técnica   \n",
       "1  Gallagher Sudlow  Fundamentos do HTTP        2018-04-05  12     Técnica   \n",
       "2   Giacinta Lammin  Fundamentos do HTTP        2018-07-01  12     Técnica   \n",
       "3     Joly Bartlett  Fundamentos do HTTP        2018-08-30  12     Técnica   \n",
       "4     Reagan Palmer  Fundamentos do HTTP        2019-01-22  12     Técnica   \n",
       "\n",
       "   Carga Horária  \n",
       "0              4  \n",
       "1              4  \n",
       "2              4  \n",
       "3              4  \n",
       "4              4  "
      ]
     },
     "execution_count": 20,
     "metadata": {},
     "output_type": "execute_result"
    }
   ],
   "source": [
    "df_consolidado = pd.merge(df_realizados, df_cursos, on=\"Curso\")\n",
    "df_consolidado.head()"
   ]
  },
  {
   "cell_type": "markdown",
   "metadata": {},
   "source": [
    "Nesses casos, geralmente conjunto de dados resultante fica com algumas colunas pouco relevantes para nossa análise. Podemos removê-las usando o método `drop()`:"
   ]
  },
  {
   "cell_type": "code",
   "execution_count": 21,
   "metadata": {},
   "outputs": [
    {
     "data": {
      "text/html": [
       "<div>\n",
       "<style scoped>\n",
       "    .dataframe tbody tr th:only-of-type {\n",
       "        vertical-align: middle;\n",
       "    }\n",
       "\n",
       "    .dataframe tbody tr th {\n",
       "        vertical-align: top;\n",
       "    }\n",
       "\n",
       "    .dataframe thead th {\n",
       "        text-align: right;\n",
       "    }\n",
       "</style>\n",
       "<table border=\"1\" class=\"dataframe\">\n",
       "  <thead>\n",
       "    <tr style=\"text-align: right;\">\n",
       "      <th></th>\n",
       "      <th>Funcionário</th>\n",
       "      <th>Curso</th>\n",
       "      <th>Data de conclusão</th>\n",
       "      <th>Competência</th>\n",
       "      <th>Carga Horária</th>\n",
       "    </tr>\n",
       "  </thead>\n",
       "  <tbody>\n",
       "    <tr>\n",
       "      <td>0</td>\n",
       "      <td>Reagan Palmer</td>\n",
       "      <td>Fundamentos do HTTP</td>\n",
       "      <td>2017-10-24</td>\n",
       "      <td>Técnica</td>\n",
       "      <td>4</td>\n",
       "    </tr>\n",
       "    <tr>\n",
       "      <td>1</td>\n",
       "      <td>Gallagher Sudlow</td>\n",
       "      <td>Fundamentos do HTTP</td>\n",
       "      <td>2018-04-05</td>\n",
       "      <td>Técnica</td>\n",
       "      <td>4</td>\n",
       "    </tr>\n",
       "    <tr>\n",
       "      <td>2</td>\n",
       "      <td>Giacinta Lammin</td>\n",
       "      <td>Fundamentos do HTTP</td>\n",
       "      <td>2018-07-01</td>\n",
       "      <td>Técnica</td>\n",
       "      <td>4</td>\n",
       "    </tr>\n",
       "    <tr>\n",
       "      <td>3</td>\n",
       "      <td>Joly Bartlett</td>\n",
       "      <td>Fundamentos do HTTP</td>\n",
       "      <td>2018-08-30</td>\n",
       "      <td>Técnica</td>\n",
       "      <td>4</td>\n",
       "    </tr>\n",
       "    <tr>\n",
       "      <td>4</td>\n",
       "      <td>Reagan Palmer</td>\n",
       "      <td>Fundamentos do HTTP</td>\n",
       "      <td>2019-01-22</td>\n",
       "      <td>Técnica</td>\n",
       "      <td>4</td>\n",
       "    </tr>\n",
       "  </tbody>\n",
       "</table>\n",
       "</div>"
      ],
      "text/plain": [
       "        Funcionário                Curso Data de conclusão Competência  \\\n",
       "0     Reagan Palmer  Fundamentos do HTTP        2017-10-24     Técnica   \n",
       "1  Gallagher Sudlow  Fundamentos do HTTP        2018-04-05     Técnica   \n",
       "2   Giacinta Lammin  Fundamentos do HTTP        2018-07-01     Técnica   \n",
       "3     Joly Bartlett  Fundamentos do HTTP        2018-08-30     Técnica   \n",
       "4     Reagan Palmer  Fundamentos do HTTP        2019-01-22     Técnica   \n",
       "\n",
       "   Carga Horária  \n",
       "0              4  \n",
       "1              4  \n",
       "2              4  \n",
       "3              4  \n",
       "4              4  "
      ]
     },
     "execution_count": 21,
     "metadata": {},
     "output_type": "execute_result"
    }
   ],
   "source": [
    "df_consolidado = df_consolidado.drop(columns=[\"ID\"])\n",
    "df_consolidado.head()"
   ]
  },
  {
   "cell_type": "markdown",
   "metadata": {},
   "source": [
    "Agora finalmente podemos descobrir o total de horas de treinamento realizadas por cada funcionário, agrupando pelos nomes e agregando com a função `sum()`:"
   ]
  },
  {
   "cell_type": "code",
   "execution_count": 22,
   "metadata": {},
   "outputs": [
    {
     "data": {
      "text/html": [
       "<div>\n",
       "<style scoped>\n",
       "    .dataframe tbody tr th:only-of-type {\n",
       "        vertical-align: middle;\n",
       "    }\n",
       "\n",
       "    .dataframe tbody tr th {\n",
       "        vertical-align: top;\n",
       "    }\n",
       "\n",
       "    .dataframe thead th {\n",
       "        text-align: right;\n",
       "    }\n",
       "</style>\n",
       "<table border=\"1\" class=\"dataframe\">\n",
       "  <thead>\n",
       "    <tr style=\"text-align: right;\">\n",
       "      <th></th>\n",
       "      <th>Carga Horária</th>\n",
       "    </tr>\n",
       "    <tr>\n",
       "      <th>Funcionário</th>\n",
       "      <th></th>\n",
       "    </tr>\n",
       "  </thead>\n",
       "  <tbody>\n",
       "    <tr>\n",
       "      <td>Anabella Berthon</td>\n",
       "      <td>56</td>\n",
       "    </tr>\n",
       "    <tr>\n",
       "      <td>Averil Brownett</td>\n",
       "      <td>52</td>\n",
       "    </tr>\n",
       "    <tr>\n",
       "      <td>Bax Ible</td>\n",
       "      <td>84</td>\n",
       "    </tr>\n",
       "    <tr>\n",
       "      <td>Bernadene Gard</td>\n",
       "      <td>84</td>\n",
       "    </tr>\n",
       "    <tr>\n",
       "      <td>Boyd Caps</td>\n",
       "      <td>56</td>\n",
       "    </tr>\n",
       "  </tbody>\n",
       "</table>\n",
       "</div>"
      ],
      "text/plain": [
       "                  Carga Horária\n",
       "Funcionário                    \n",
       "Anabella Berthon             56\n",
       "Averil Brownett              52\n",
       "Bax Ible                     84\n",
       "Bernadene Gard               84\n",
       "Boyd Caps                    56"
      ]
     },
     "execution_count": 22,
     "metadata": {},
     "output_type": "execute_result"
    }
   ],
   "source": [
    "df_total_horas_funcionario = df_consolidado.groupby(\"Funcionário\").sum()\n",
    "df_total_horas_funcionario.head()"
   ]
  },
  {
   "cell_type": "markdown",
   "metadata": {},
   "source": [
    "## Filtrando linhas"
   ]
  },
  {
   "cell_type": "markdown",
   "metadata": {},
   "source": [
    "Vamos adicionar ao dataframe uma coluna que indicará se o funcionário atingiu a meta carga horária mínima de 80 horas de treinamento:"
   ]
  },
  {
   "cell_type": "code",
   "execution_count": 23,
   "metadata": {},
   "outputs": [
    {
     "data": {
      "text/html": [
       "<div>\n",
       "<style scoped>\n",
       "    .dataframe tbody tr th:only-of-type {\n",
       "        vertical-align: middle;\n",
       "    }\n",
       "\n",
       "    .dataframe tbody tr th {\n",
       "        vertical-align: top;\n",
       "    }\n",
       "\n",
       "    .dataframe thead th {\n",
       "        text-align: right;\n",
       "    }\n",
       "</style>\n",
       "<table border=\"1\" class=\"dataframe\">\n",
       "  <thead>\n",
       "    <tr style=\"text-align: right;\">\n",
       "      <th></th>\n",
       "      <th>Carga Horária</th>\n",
       "      <th>Cumpriu meta</th>\n",
       "    </tr>\n",
       "    <tr>\n",
       "      <th>Funcionário</th>\n",
       "      <th></th>\n",
       "      <th></th>\n",
       "    </tr>\n",
       "  </thead>\n",
       "  <tbody>\n",
       "    <tr>\n",
       "      <td>Anabella Berthon</td>\n",
       "      <td>56</td>\n",
       "      <td>False</td>\n",
       "    </tr>\n",
       "    <tr>\n",
       "      <td>Averil Brownett</td>\n",
       "      <td>52</td>\n",
       "      <td>False</td>\n",
       "    </tr>\n",
       "    <tr>\n",
       "      <td>Bax Ible</td>\n",
       "      <td>84</td>\n",
       "      <td>True</td>\n",
       "    </tr>\n",
       "    <tr>\n",
       "      <td>Bernadene Gard</td>\n",
       "      <td>84</td>\n",
       "      <td>True</td>\n",
       "    </tr>\n",
       "    <tr>\n",
       "      <td>Boyd Caps</td>\n",
       "      <td>56</td>\n",
       "      <td>False</td>\n",
       "    </tr>\n",
       "  </tbody>\n",
       "</table>\n",
       "</div>"
      ],
      "text/plain": [
       "                  Carga Horária  Cumpriu meta\n",
       "Funcionário                                  \n",
       "Anabella Berthon             56         False\n",
       "Averil Brownett              52         False\n",
       "Bax Ible                     84          True\n",
       "Bernadene Gard               84          True\n",
       "Boyd Caps                    56         False"
      ]
     },
     "execution_count": 23,
     "metadata": {},
     "output_type": "execute_result"
    }
   ],
   "source": [
    "meta = 80\n",
    "df_total_horas_funcionario[\"Cumpriu meta\"] = df_total_horas_funcionario[\"Carga Horária\"] >= meta\n",
    "df_total_horas_funcionario.head()"
   ]
  },
  {
   "cell_type": "markdown",
   "metadata": {},
   "source": [
    "Opcionalmente, podemos remover o índice que é criado pelo agrupamento, retornando ao índice sequencial padrão:"
   ]
  },
  {
   "cell_type": "code",
   "execution_count": 24,
   "metadata": {
    "scrolled": true
   },
   "outputs": [
    {
     "data": {
      "text/html": [
       "<div>\n",
       "<style scoped>\n",
       "    .dataframe tbody tr th:only-of-type {\n",
       "        vertical-align: middle;\n",
       "    }\n",
       "\n",
       "    .dataframe tbody tr th {\n",
       "        vertical-align: top;\n",
       "    }\n",
       "\n",
       "    .dataframe thead th {\n",
       "        text-align: right;\n",
       "    }\n",
       "</style>\n",
       "<table border=\"1\" class=\"dataframe\">\n",
       "  <thead>\n",
       "    <tr style=\"text-align: right;\">\n",
       "      <th></th>\n",
       "      <th>Funcionário</th>\n",
       "      <th>Carga Horária</th>\n",
       "      <th>Cumpriu meta</th>\n",
       "    </tr>\n",
       "  </thead>\n",
       "  <tbody>\n",
       "    <tr>\n",
       "      <td>0</td>\n",
       "      <td>Anabella Berthon</td>\n",
       "      <td>56</td>\n",
       "      <td>False</td>\n",
       "    </tr>\n",
       "    <tr>\n",
       "      <td>1</td>\n",
       "      <td>Averil Brownett</td>\n",
       "      <td>52</td>\n",
       "      <td>False</td>\n",
       "    </tr>\n",
       "    <tr>\n",
       "      <td>2</td>\n",
       "      <td>Bax Ible</td>\n",
       "      <td>84</td>\n",
       "      <td>True</td>\n",
       "    </tr>\n",
       "    <tr>\n",
       "      <td>3</td>\n",
       "      <td>Bernadene Gard</td>\n",
       "      <td>84</td>\n",
       "      <td>True</td>\n",
       "    </tr>\n",
       "    <tr>\n",
       "      <td>4</td>\n",
       "      <td>Boyd Caps</td>\n",
       "      <td>56</td>\n",
       "      <td>False</td>\n",
       "    </tr>\n",
       "  </tbody>\n",
       "</table>\n",
       "</div>"
      ],
      "text/plain": [
       "        Funcionário  Carga Horária  Cumpriu meta\n",
       "0  Anabella Berthon             56         False\n",
       "1   Averil Brownett             52         False\n",
       "2          Bax Ible             84          True\n",
       "3    Bernadene Gard             84          True\n",
       "4         Boyd Caps             56         False"
      ]
     },
     "execution_count": 24,
     "metadata": {},
     "output_type": "execute_result"
    }
   ],
   "source": [
    "df_total_horas_funcionario.reset_index(inplace=True)\n",
    "df_total_horas_funcionario.head()"
   ]
  },
  {
   "cell_type": "markdown",
   "metadata": {},
   "source": [
    "## Obtendo novo dataset a partir de dados filtrados"
   ]
  },
  {
   "cell_type": "code",
   "execution_count": 25,
   "metadata": {},
   "outputs": [
    {
     "data": {
      "text/html": [
       "<div>\n",
       "<style scoped>\n",
       "    .dataframe tbody tr th:only-of-type {\n",
       "        vertical-align: middle;\n",
       "    }\n",
       "\n",
       "    .dataframe tbody tr th {\n",
       "        vertical-align: top;\n",
       "    }\n",
       "\n",
       "    .dataframe thead th {\n",
       "        text-align: right;\n",
       "    }\n",
       "</style>\n",
       "<table border=\"1\" class=\"dataframe\">\n",
       "  <thead>\n",
       "    <tr style=\"text-align: right;\">\n",
       "      <th></th>\n",
       "      <th>Funcionário</th>\n",
       "      <th>Carga Horária</th>\n",
       "      <th>Cumpriu meta</th>\n",
       "    </tr>\n",
       "  </thead>\n",
       "  <tbody>\n",
       "    <tr>\n",
       "      <td>0</td>\n",
       "      <td>Anabella Berthon</td>\n",
       "      <td>56</td>\n",
       "      <td>False</td>\n",
       "    </tr>\n",
       "    <tr>\n",
       "      <td>1</td>\n",
       "      <td>Averil Brownett</td>\n",
       "      <td>52</td>\n",
       "      <td>False</td>\n",
       "    </tr>\n",
       "    <tr>\n",
       "      <td>4</td>\n",
       "      <td>Boyd Caps</td>\n",
       "      <td>56</td>\n",
       "      <td>False</td>\n",
       "    </tr>\n",
       "    <tr>\n",
       "      <td>5</td>\n",
       "      <td>Brander Rain</td>\n",
       "      <td>36</td>\n",
       "      <td>False</td>\n",
       "    </tr>\n",
       "    <tr>\n",
       "      <td>6</td>\n",
       "      <td>Chrissie Brennans</td>\n",
       "      <td>36</td>\n",
       "      <td>False</td>\n",
       "    </tr>\n",
       "    <tr>\n",
       "      <td>7</td>\n",
       "      <td>Dorey Brafield</td>\n",
       "      <td>16</td>\n",
       "      <td>False</td>\n",
       "    </tr>\n",
       "    <tr>\n",
       "      <td>11</td>\n",
       "      <td>Gallagher Sudlow</td>\n",
       "      <td>64</td>\n",
       "      <td>False</td>\n",
       "    </tr>\n",
       "    <tr>\n",
       "      <td>14</td>\n",
       "      <td>Giacinta Lammin</td>\n",
       "      <td>44</td>\n",
       "      <td>False</td>\n",
       "    </tr>\n",
       "    <tr>\n",
       "      <td>15</td>\n",
       "      <td>Holmes Gobbett</td>\n",
       "      <td>56</td>\n",
       "      <td>False</td>\n",
       "    </tr>\n",
       "    <tr>\n",
       "      <td>16</td>\n",
       "      <td>Joly Bartlett</td>\n",
       "      <td>56</td>\n",
       "      <td>False</td>\n",
       "    </tr>\n",
       "    <tr>\n",
       "      <td>17</td>\n",
       "      <td>Joni Gibberd</td>\n",
       "      <td>32</td>\n",
       "      <td>False</td>\n",
       "    </tr>\n",
       "    <tr>\n",
       "      <td>18</td>\n",
       "      <td>Laverna Rochell</td>\n",
       "      <td>72</td>\n",
       "      <td>False</td>\n",
       "    </tr>\n",
       "    <tr>\n",
       "      <td>19</td>\n",
       "      <td>Mead Choules</td>\n",
       "      <td>48</td>\n",
       "      <td>False</td>\n",
       "    </tr>\n",
       "    <tr>\n",
       "      <td>20</td>\n",
       "      <td>Meara Egdale</td>\n",
       "      <td>64</td>\n",
       "      <td>False</td>\n",
       "    </tr>\n",
       "    <tr>\n",
       "      <td>21</td>\n",
       "      <td>Munroe Itshak</td>\n",
       "      <td>52</td>\n",
       "      <td>False</td>\n",
       "    </tr>\n",
       "    <tr>\n",
       "      <td>25</td>\n",
       "      <td>Reagan Palmer</td>\n",
       "      <td>12</td>\n",
       "      <td>False</td>\n",
       "    </tr>\n",
       "    <tr>\n",
       "      <td>26</td>\n",
       "      <td>Rhodie Rudgley</td>\n",
       "      <td>64</td>\n",
       "      <td>False</td>\n",
       "    </tr>\n",
       "    <tr>\n",
       "      <td>27</td>\n",
       "      <td>Shannah Rex</td>\n",
       "      <td>52</td>\n",
       "      <td>False</td>\n",
       "    </tr>\n",
       "    <tr>\n",
       "      <td>29</td>\n",
       "      <td>Sterne Dorwood</td>\n",
       "      <td>52</td>\n",
       "      <td>False</td>\n",
       "    </tr>\n",
       "    <tr>\n",
       "      <td>30</td>\n",
       "      <td>Thomasin Medlen</td>\n",
       "      <td>48</td>\n",
       "      <td>False</td>\n",
       "    </tr>\n",
       "    <tr>\n",
       "      <td>31</td>\n",
       "      <td>Wanids Oleshunin</td>\n",
       "      <td>68</td>\n",
       "      <td>False</td>\n",
       "    </tr>\n",
       "  </tbody>\n",
       "</table>\n",
       "</div>"
      ],
      "text/plain": [
       "          Funcionário  Carga Horária  Cumpriu meta\n",
       "0    Anabella Berthon             56         False\n",
       "1     Averil Brownett             52         False\n",
       "4           Boyd Caps             56         False\n",
       "5        Brander Rain             36         False\n",
       "6   Chrissie Brennans             36         False\n",
       "7      Dorey Brafield             16         False\n",
       "11   Gallagher Sudlow             64         False\n",
       "14    Giacinta Lammin             44         False\n",
       "15     Holmes Gobbett             56         False\n",
       "16      Joly Bartlett             56         False\n",
       "17       Joni Gibberd             32         False\n",
       "18    Laverna Rochell             72         False\n",
       "19       Mead Choules             48         False\n",
       "20       Meara Egdale             64         False\n",
       "21      Munroe Itshak             52         False\n",
       "25      Reagan Palmer             12         False\n",
       "26     Rhodie Rudgley             64         False\n",
       "27        Shannah Rex             52         False\n",
       "29     Sterne Dorwood             52         False\n",
       "30    Thomasin Medlen             48         False\n",
       "31   Wanids Oleshunin             68         False"
      ]
     },
     "execution_count": 25,
     "metadata": {},
     "output_type": "execute_result"
    }
   ],
   "source": [
    "df_total_horas_funcionario[df_total_horas_funcionario[\"Cumpriu meta\"] == False]"
   ]
  },
  {
   "cell_type": "markdown",
   "metadata": {},
   "source": [
    "## Visualização de Dados"
   ]
  },
  {
   "cell_type": "markdown",
   "metadata": {},
   "source": [
    "### Quais os meses com mais horas de treinamento concluídas?"
   ]
  },
  {
   "cell_type": "markdown",
   "metadata": {},
   "source": [
    "Primeiro precisamos importar a biblioteca `matplotlib`, responsável por desenhar os gráficos:"
   ]
  },
  {
   "cell_type": "code",
   "execution_count": 26,
   "metadata": {},
   "outputs": [],
   "source": [
    "import matplotlib.pyplot as plt\n",
    "%matplotlib inline"
   ]
  },
  {
   "cell_type": "markdown",
   "metadata": {},
   "source": [
    "Agora vamos descobrir a quantidade de horas de treinamento cursadas por mês. Para isso, agrupamos a soma das cargas horárias por ano e por mês:"
   ]
  },
  {
   "cell_type": "code",
   "execution_count": 27,
   "metadata": {},
   "outputs": [],
   "source": [
    "df_horas_por_ano = df_consolidado.groupby(\n",
    "    [\n",
    "        df_consolidado[\"Data de conclusão\"].dt.year.rename(\"ano\"), \n",
    "        df_consolidado[\"Data de conclusão\"].dt.month.rename(\"mes\")\n",
    "    ]\n",
    ").sum()"
   ]
  },
  {
   "cell_type": "markdown",
   "metadata": {},
   "source": [
    "Vamos ver como ficou:"
   ]
  },
  {
   "cell_type": "code",
   "execution_count": 28,
   "metadata": {
    "scrolled": true
   },
   "outputs": [
    {
     "data": {
      "text/html": [
       "<div>\n",
       "<style scoped>\n",
       "    .dataframe tbody tr th:only-of-type {\n",
       "        vertical-align: middle;\n",
       "    }\n",
       "\n",
       "    .dataframe tbody tr th {\n",
       "        vertical-align: top;\n",
       "    }\n",
       "\n",
       "    .dataframe thead th {\n",
       "        text-align: right;\n",
       "    }\n",
       "</style>\n",
       "<table border=\"1\" class=\"dataframe\">\n",
       "  <thead>\n",
       "    <tr style=\"text-align: right;\">\n",
       "      <th></th>\n",
       "      <th></th>\n",
       "      <th>Carga Horária</th>\n",
       "    </tr>\n",
       "    <tr>\n",
       "      <th>ano</th>\n",
       "      <th>mes</th>\n",
       "      <th></th>\n",
       "    </tr>\n",
       "  </thead>\n",
       "  <tbody>\n",
       "    <tr>\n",
       "      <td rowspan=\"3\" valign=\"top\">2017</td>\n",
       "      <td>10</td>\n",
       "      <td>112</td>\n",
       "    </tr>\n",
       "    <tr>\n",
       "      <td>11</td>\n",
       "      <td>128</td>\n",
       "    </tr>\n",
       "    <tr>\n",
       "      <td>12</td>\n",
       "      <td>116</td>\n",
       "    </tr>\n",
       "    <tr>\n",
       "      <td rowspan=\"12\" valign=\"top\">2018</td>\n",
       "      <td>1</td>\n",
       "      <td>76</td>\n",
       "    </tr>\n",
       "    <tr>\n",
       "      <td>2</td>\n",
       "      <td>160</td>\n",
       "    </tr>\n",
       "    <tr>\n",
       "      <td>3</td>\n",
       "      <td>228</td>\n",
       "    </tr>\n",
       "    <tr>\n",
       "      <td>4</td>\n",
       "      <td>64</td>\n",
       "    </tr>\n",
       "    <tr>\n",
       "      <td>5</td>\n",
       "      <td>132</td>\n",
       "    </tr>\n",
       "    <tr>\n",
       "      <td>6</td>\n",
       "      <td>96</td>\n",
       "    </tr>\n",
       "    <tr>\n",
       "      <td>7</td>\n",
       "      <td>96</td>\n",
       "    </tr>\n",
       "    <tr>\n",
       "      <td>8</td>\n",
       "      <td>184</td>\n",
       "    </tr>\n",
       "    <tr>\n",
       "      <td>9</td>\n",
       "      <td>188</td>\n",
       "    </tr>\n",
       "    <tr>\n",
       "      <td>10</td>\n",
       "      <td>188</td>\n",
       "    </tr>\n",
       "    <tr>\n",
       "      <td>11</td>\n",
       "      <td>124</td>\n",
       "    </tr>\n",
       "    <tr>\n",
       "      <td>12</td>\n",
       "      <td>44</td>\n",
       "    </tr>\n",
       "    <tr>\n",
       "      <td rowspan=\"3\" valign=\"top\">2019</td>\n",
       "      <td>1</td>\n",
       "      <td>96</td>\n",
       "    </tr>\n",
       "    <tr>\n",
       "      <td>2</td>\n",
       "      <td>164</td>\n",
       "    </tr>\n",
       "    <tr>\n",
       "      <td>3</td>\n",
       "      <td>40</td>\n",
       "    </tr>\n",
       "  </tbody>\n",
       "</table>\n",
       "</div>"
      ],
      "text/plain": [
       "          Carga Horária\n",
       "ano  mes               \n",
       "2017 10             112\n",
       "     11             128\n",
       "     12             116\n",
       "2018 1               76\n",
       "     2              160\n",
       "     3              228\n",
       "     4               64\n",
       "     5              132\n",
       "     6               96\n",
       "     7               96\n",
       "     8              184\n",
       "     9              188\n",
       "     10             188\n",
       "     11             124\n",
       "     12              44\n",
       "2019 1               96\n",
       "     2              164\n",
       "     3               40"
      ]
     },
     "execution_count": 28,
     "metadata": {},
     "output_type": "execute_result"
    }
   ],
   "source": [
    "df_horas_por_ano"
   ]
  },
  {
   "cell_type": "markdown",
   "metadata": {},
   "source": [
    "Com esse dataframe, já podemos plotar um gráfico de barras simples. O próprio objeto dataframe já traz um método que encapsula a geração de gráficos do `matplotlib`, por conveniência:"
   ]
  },
  {
   "cell_type": "code",
   "execution_count": 29,
   "metadata": {
    "scrolled": true
   },
   "outputs": [
    {
     "data": {
      "text/plain": [
       "<matplotlib.axes._subplots.AxesSubplot at 0x10ef1d358>"
      ]
     },
     "execution_count": 29,
     "metadata": {},
     "output_type": "execute_result"
    },
    {
     "data": {
      "image/png": "[encoded data removed]",
      "text/plain": [
       "<Figure size 432x288 with 1 Axes>"
      ]
     },
     "metadata": {
      "needs_background": "light"
     },
     "output_type": "display_data"
    }
   ],
   "source": [
    "df_horas_por_ano.plot(kind=\"bar\")"
   ]
  },
  {
   "cell_type": "markdown",
   "metadata": {},
   "source": [
    "### Cumprimento da meta de treinamentos"
   ]
  },
  {
   "cell_type": "markdown",
   "metadata": {},
   "source": [
    "Vamos criar um famigerado gráfico de pizza para visualizar a proporção de cumprimento de metas de treinamento pelos funcionários:"
   ]
  },
  {
   "cell_type": "code",
   "execution_count": 30,
   "metadata": {},
   "outputs": [
    {
     "data": {
      "text/plain": [
       "<matplotlib.axes._subplots.AxesSubplot at 0x111000940>"
      ]
     },
     "execution_count": 30,
     "metadata": {},
     "output_type": "execute_result"
    },
    {
     "data": {
      "image/png": "[encoded data removed]",
      "text/plain": [
       "<Figure size 432x288 with 1 Axes>"
      ]
     },
     "metadata": {},
     "output_type": "display_data"
    }
   ],
   "source": [
    "df_total_horas_funcionario.groupby(\"Cumpriu meta\").count().plot.pie(\n",
    "    y=\"Carga Horária\", \n",
    "    title=\"Cumprimento da Meta\",\n",
    "    labels=[\"Não\", \"Sim\"],\n",
    "    explode=(0, 0.075),\n",
    "    shadow=True,\n",
    "    autopct=\"%1.1f%%\"\n",
    ")"
   ]
  },
  {
   "cell_type": "markdown",
   "metadata": {},
   "source": [
    "## Gravando os dados"
   ]
  },
  {
   "cell_type": "markdown",
   "metadata": {},
   "source": [
    "Por fim, podemos gerar arquivos com os resultados da nossa análise:"
   ]
  },
  {
   "cell_type": "markdown",
   "metadata": {},
   "source": [
    "### Arquivo CSV"
   ]
  },
  {
   "cell_type": "code",
   "execution_count": 31,
   "metadata": {},
   "outputs": [],
   "source": [
    "df_total_horas_funcionario.to_csv(\"out/horas-treinamento.csv\", sep=\";\", index=False)"
   ]
  },
  {
   "cell_type": "markdown",
   "metadata": {},
   "source": [
    "### Arquivo Excel"
   ]
  },
  {
   "cell_type": "code",
   "execution_count": 32,
   "metadata": {},
   "outputs": [],
   "source": [
    "df_total_horas_funcionario.to_excel(\"out/horas-treinamento.xlsx\")"
   ]
  },
  {
   "cell_type": "code",
   "execution_count": null,
   "metadata": {},
   "outputs": [],
   "source": []
  }
 ],
 "metadata": {
  "kernelspec": {
   "display_name": "python-planilhas",
   "language": "python",
   "name": "python-planilhas"
  },
  "language_info": {
   "codemirror_mode": {
    "name": "ipython",
    "version": 3
   },
   "file_extension": ".py",
   "mimetype": "text/x-python",
   "name": "python",
   "nbconvert_exporter": "python",
   "pygments_lexer": "ipython3",
   "version": "3.7.3"
  }
 },
 "nbformat": 4,
 "nbformat_minor": 4
}
